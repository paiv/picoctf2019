{
 "cells": [
  {
   "cell_type": "code",
   "execution_count": 1,
   "metadata": {},
   "outputs": [],
   "source": [
    "import binascii\n",
    "import dpkt\n",
    "import io\n",
    "import struct\n",
    "import sys\n",
    "from collections import Counter\n",
    "from ipaddress import ip_address"
   ]
  },
  {
   "cell_type": "code",
   "execution_count": 2,
   "metadata": {},
   "outputs": [
    {
     "data": {
      "text/plain": [
       "b'7069636f4354467b'"
      ]
     },
     "execution_count": 2,
     "metadata": {},
     "output_type": "execute_result"
    }
   ],
   "source": [
    "binascii.hexlify(b'picoCTF{')"
   ]
  },
  {
   "cell_type": "code",
   "execution_count": 3,
   "metadata": {},
   "outputs": [],
   "source": [
    "VERBOSE = 2\n",
    "def trace(*args, **kwargs):\n",
    "    if VERBOSE > 1: print(*args, file=sys.stderr, flush=True, **kwargs)"
   ]
  },
  {
   "cell_type": "code",
   "execution_count": 4,
   "metadata": {},
   "outputs": [],
   "source": [
    "def walk_pcap(f):\n",
    "    pcap = dpkt.pcap.Reader(f)\n",
    "    dlt = pcap.datalink()\n",
    "\n",
    "    for t, data in pcap:\n",
    "        try:\n",
    "            if dlt == 0:\n",
    "                x = struct.unpack('I', data[:4])[0]\n",
    "                if x == 2:\n",
    "                    ip = dpkt.ip.IP(data[4:])\n",
    "                elif x == 30:\n",
    "                    ip = dpkt.ip6.IP6(data[4:])\n",
    "                else:\n",
    "                    continue\n",
    "\n",
    "            elif dlt == 1:\n",
    "                eth = dpkt.ethernet.Ethernet(data)\n",
    "                ip = eth.data\n",
    "                if isinstance(ip, bytes):\n",
    "                    ip = dpkt.ip.IP(ip)\n",
    "\n",
    "            elif dlt == 101:\n",
    "                ip = dpkt.ip.IP(data)\n",
    "\n",
    "            else:\n",
    "                trace('** skipping dlt', dlt)\n",
    "                continue\n",
    "\n",
    "            yield (t, eth)\n",
    "\n",
    "        except GeneratorExit:\n",
    "            raise\n",
    "        except:\n",
    "            # if VERBOSE: trace(sys.exc_info())\n",
    "            pass"
   ]
  },
  {
   "cell_type": "code",
   "execution_count": 5,
   "metadata": {},
   "outputs": [
    {
     "data": {
      "text/plain": [
       "Counter({dpkt.ip6.IP6: 22,\n",
       "         dpkt.udp.UDP: 614,\n",
       "         dpkt.ip.IP: 743,\n",
       "         dpkt.tcp.TCP: 138,\n",
       "         dpkt.arp.ARP: 560,\n",
       "         dpkt.icmp6.ICMP6: 7,\n",
       "         dpkt.igmp.IGMP: 6})"
      ]
     },
     "execution_count": 5,
     "metadata": {},
     "output_type": "execute_result"
    }
   ],
   "source": [
    "fn='capture.pcap'\n",
    "stats = Counter()\n",
    "with open(fn, 'rb') as fp:\n",
    "    for t, eth in walk_pcap(fp):\n",
    "        stats[type(eth.data)] += 1\n",
    "        if isinstance(eth.data, (dpkt.ip.IP, dpkt.ip6.IP6)):\n",
    "            stats[type(eth.data.data)] += 1\n",
    "stats"
   ]
  },
  {
   "cell_type": "code",
   "execution_count": 6,
   "metadata": {},
   "outputs": [
    {
     "data": {
      "text/plain": [
       "Counter({5353: 26,\n",
       "         80: 93,\n",
       "         60218: 46,\n",
       "         9999: 4,\n",
       "         8888: 47,\n",
       "         8990: 398,\n",
       "         1900: 40,\n",
       "         5355: 4,\n",
       "         22: 35,\n",
       "         100: 28,\n",
       "         123: 1,\n",
       "         1234: 30})"
      ]
     },
     "execution_count": 6,
     "metadata": {},
     "output_type": "execute_result"
    }
   ],
   "source": [
    "stats = Counter()\n",
    "with open(fn, 'rb') as fp:\n",
    "    for t, eth in walk_pcap(fp):\n",
    "        if isinstance(eth.data, (dpkt.ip.IP, dpkt.ip6.IP6)):\n",
    "            ip = eth.data\n",
    "            if isinstance(ip.data, (dpkt.tcp.TCP, dpkt.udp.UDP)):\n",
    "                tcp = ip.data\n",
    "                stats[tcp.dport] += 1\n",
    "stats"
   ]
  },
  {
   "cell_type": "code",
   "execution_count": 7,
   "metadata": {
    "scrolled": true
   },
   "outputs": [
    {
     "name": "stdout",
     "output_type": "stream",
     "text": [
      "0 35  ø\n",
      "0 40  ³\n",
      "0 41 \f",
      " À\n",
      "0 42 s a\n",
      "0 43 t a\n",
      "0 45 r a\n",
      "0 46 t a\n",
      "1 35 ø ñ\n",
      "1 41 À Ç\n",
      "2 35 ñ ë\n",
      "2 41 Ç Í\n",
      "3 35 ë ÷\n",
      "3 41 Í Á\n",
      "4 35 ÷ Ë\n",
      "4 41 Á í\n",
      "5 35 Ë Ü\n",
      "5 41 í Ü\n",
      "6 35 Ü Î\n",
      "6 41 Ü ê\n",
      "7 34 \u0013 \u0014\n",
      "7 35 Î \u0003\n",
      "7 41 ê µ\n",
      "8 34 \u0014 \u0013\n",
      "8 35 \u0003 ø\n",
      "8 41 µ À\n",
      "9 35 ø ¹\n",
      "9 41 À ÿ\n",
      "10 35 ¹ Ô\n",
      "10 41 ÿ ä\n",
      "12 35 Ô î\n",
      "12 41 ä Ê\n",
      "13 35 î »\n",
      "13 41 Ê ý\n",
      "14 35 » ú\n",
      "14 41 ý ¾\n",
      "15 35 ú »\n",
      "15 41 ¾ ý\n",
      "16 35 » ì\n",
      "16 41 ý Ì\n",
      "17 35 ì ç\n",
      "17 41 Ì Ñ\n",
      "18 35 ç ì\n",
      "18 41 Ñ Ì\n",
      "19 35 ì é\n",
      "19 41 Ì Ï\n",
      "20 35 é ü\n",
      "20 41 Ï ¼\n",
      "21 35 ü é\n",
      "21 41 ¼ Ï\n",
      "22 35 é ç\n",
      "22 41 Ï Ñ\n",
      "23 35 ç þ\n",
      "23 41 Ñ º\n",
      "24 35 þ ¹\n",
      "24 41 º ÿ\n",
      "25 35 ¹ é\n",
      "25 41 ÿ Ï\n",
      "26 35 é ç\n",
      "26 41 Ï Ñ\n",
      "27 35 ç û\n",
      "27 41 Ñ ½\n",
      "28 35 û ü\n",
      "28 41 ½ ¼\n",
      "29 35 ü »\n",
      "29 41 ¼ ý\n",
      "30 35 » ï\n",
      "30 41 ý É\n",
      "31 35 ï ¸\n",
      "31 40 ³ ´\n",
      "31 41 É \u0000\n",
      "32 34 \u0013 \u0014\n",
      "32 35 ¸ \u0005\n",
      "32 40 ´ ³\n",
      "32 41 \u0000 ³\n",
      "33 17 ! \u001f\n",
      "33 25  }\n",
      "33 29 B P\n",
      "33 34 \u0014 \u0013\n",
      "33 35 \u0005 \n",
      "33 39 \r",
      " \u000b",
      "\n",
      "33 40 ³ \u000e\n",
      "33 41 ³ {\n",
      "33 42 a e\n",
      "33 43 a n\n",
      "33 44 a d\n"
     ]
    }
   ],
   "source": [
    "data = list()\n",
    "with open(fn, 'rb') as fp:\n",
    "    for t, eth in walk_pcap(fp):\n",
    "        if isinstance(eth.data, (dpkt.ip.IP, dpkt.ip6.IP6)):\n",
    "            ip = eth.data\n",
    "            if isinstance(ip.data, (dpkt.tcp.TCP, dpkt.udp.UDP)):\n",
    "                tcp = ip.data\n",
    "                if tcp.dport == 22:\n",
    "                    data.append(eth)\n",
    "                    \n",
    "for n, (a, b) in enumerate(zip(data, data[1:])):\n",
    "    for i, (x, y) in enumerate(zip(bytes(a), bytes(b))):\n",
    "        if x != y:\n",
    "            print(n, i, chr(x), chr(y))"
   ]
  },
  {
   "cell_type": "code",
   "execution_count": 8,
   "metadata": {},
   "outputs": [
    {
     "name": "stdout",
     "output_type": "stream",
     "text": [
      "112 70 01110000\n",
      "105 69 01101001\n",
      " 99 63 01100011\n",
      "111 6f 01101111\n",
      " 67 43 01000011\n",
      " 84 54 01010100\n",
      " 70 46 01000110\n",
      "123 7b 01111011\n",
      " 95 5f 01011111\n",
      "125 7d 01111101\n"
     ]
    }
   ],
   "source": [
    "for x in b'picoCTF{_}':\n",
    "    print(f'{x:3}', f'{x:02x}', f'{x:08b}')"
   ]
  },
  {
   "cell_type": "code",
   "execution_count": 9,
   "metadata": {},
   "outputs": [
    {
     "data": {
      "text/plain": [
       "b'picoCTF{p1LLf3r3d_data_v1a_st3g0}'"
      ]
     },
     "execution_count": 9,
     "metadata": {},
     "output_type": "execute_result"
    }
   ],
   "source": [
    "data = list()\n",
    "dif = 0x1403 - ord('{')\n",
    "flag = list()\n",
    "with open(fn, 'rb') as fp:\n",
    "    for t, eth in walk_pcap(fp):\n",
    "        if isinstance(eth.data, (dpkt.ip.IP, dpkt.ip6.IP6)):\n",
    "            ip = eth.data\n",
    "            if isinstance(ip.data, (dpkt.tcp.TCP, dpkt.udp.UDP)):\n",
    "                udp = ip.data\n",
    "                if udp.dport == 22:\n",
    "                    x = udp.sport - dif\n",
    "                    data.append((f'{x:04x}', chr(x)))\n",
    "                    if x: flag.append(x)\n",
    "bytes(flag)"
   ]
  }
 ],
 "metadata": {
  "kernelspec": {
   "display_name": "Python 3",
   "language": "python",
   "name": "python3"
  },
  "language_info": {
   "codemirror_mode": {
    "name": "ipython",
    "version": 3
   },
   "file_extension": ".py",
   "mimetype": "text/x-python",
   "name": "python",
   "nbconvert_exporter": "python",
   "pygments_lexer": "ipython3",
   "version": "3.7.4"
  }
 },
 "nbformat": 4,
 "nbformat_minor": 2
}

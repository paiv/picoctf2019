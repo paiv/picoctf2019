{
 "cells": [
  {
   "cell_type": "code",
   "execution_count": 1,
   "metadata": {},
   "outputs": [],
   "source": [
    "import numpy as np\n",
    "from collections import Counter\n",
    "from PIL import Image"
   ]
  },
  {
   "cell_type": "code",
   "execution_count": 2,
   "metadata": {},
   "outputs": [],
   "source": [
    "fn='buildings.png'\n",
    "with Image.open(fn) as im:\n",
    "    pixels = np.array(im)[:,:,:3]"
   ]
  },
  {
   "cell_type": "code",
   "execution_count": 3,
   "metadata": {},
   "outputs": [
    {
     "data": {
      "text/plain": [
       "[(15, 15),\n",
       " (11, 15),\n",
       " (17, 14),\n",
       " (9, 8),\n",
       " (3, 7),\n",
       " (1, 7),\n",
       " (13, 6),\n",
       " (19, 6),\n",
       " (21, 5),\n",
       " (23, 5),\n",
       " (5, 4),\n",
       " (7, 4),\n",
       " (39, 3),\n",
       " (35, 2),\n",
       " (29, 2),\n",
       " (31, 2),\n",
       " (25, 1),\n",
       " (33, 1),\n",
       " (45, 1),\n",
       " (41, 1),\n",
       " (27, 1),\n",
       " (37, 1)]"
      ]
     },
     "execution_count": 3,
     "metadata": {},
     "output_type": "execute_result"
    }
   ],
   "source": [
    "xs = pixels * (pixels % 2)\n",
    "c = Counter(xs.ravel())\n",
    "del c[0]\n",
    "c.most_common()"
   ]
  },
  {
   "cell_type": "code",
   "execution_count": 4,
   "metadata": {},
   "outputs": [
    {
     "data": {
      "text/plain": [
       "array([ 0, 17,  0, 21, 25,  3, 13,  0,  0,  0,  9, 15,  0, 11,  0, 33,  0,\n",
       "        0, 17, 29, 15, 45, 15,  0,  0, 15,  0, 21,  0,  0, 29,  0,  0,  0,\n",
       "       15, 15,  0, 19,  0, 27,  0, 39,  0, 39, 23,  0,  0, 13,  0, 11,  0,\n",
       "       17, 19,  0,  7,  0,  0, 11, 23, 35,  0,  0, 21,  0,  0, 17,  0,  0,\n",
       "        0,  1, 11,  3,  0,  0,  0,  0,  0,  0,  0,  0,  0,  0,  0,  0,  0,\n",
       "        0,  0,  0,  0,  0,  0,  0,  0,  0,  0,  0,  0,  0,  0,  0],\n",
       "      dtype=uint8)"
      ]
     },
     "execution_count": 4,
     "metadata": {},
     "output_type": "execute_result"
    }
   ],
   "source": [
    "xs[0,:,0].ravel()[:100]"
   ]
  },
  {
   "cell_type": "code",
   "execution_count": 5,
   "metadata": {},
   "outputs": [
    {
     "data": {
      "text/plain": [
       "b'picoCTF{h1d1ng_1n_th3_b1t5}\\x00'"
      ]
     },
     "execution_count": 5,
     "metadata": {},
     "output_type": "execute_result"
    }
   ],
   "source": [
    "bytes(np.packbits(xs[0,:,:].ravel()[:224] % 2))"
   ]
  }
 ],
 "metadata": {
  "kernelspec": {
   "display_name": "Python 3",
   "language": "python",
   "name": "python3"
  },
  "language_info": {
   "codemirror_mode": {
    "name": "ipython",
    "version": 3
   },
   "file_extension": ".py",
   "mimetype": "text/x-python",
   "name": "python",
   "nbconvert_exporter": "python",
   "pygments_lexer": "ipython3",
   "version": "3.7.4"
  }
 },
 "nbformat": 4,
 "nbformat_minor": 2
}

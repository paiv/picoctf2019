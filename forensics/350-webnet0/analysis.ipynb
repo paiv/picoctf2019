{
 "cells": [
  {
   "cell_type": "code",
   "execution_count": 2,
   "metadata": {},
   "outputs": [],
   "source": [
    "fn = 'capture.pcap'"
   ]
  },
  {
   "cell_type": "code",
   "execution_count": 3,
   "metadata": {},
   "outputs": [],
   "source": [
    "import binascii\n",
    "import dpkt\n",
    "import io\n",
    "import struct\n",
    "import sys\n",
    "from collections import Counter\n",
    "from ipaddress import ip_address"
   ]
  },
  {
   "cell_type": "code",
   "execution_count": 4,
   "metadata": {},
   "outputs": [],
   "source": [
    "def walk_pcap(f):\n",
    "    pcap = dpkt.pcap.Reader(f)\n",
    "    dlt = pcap.datalink()\n",
    "\n",
    "    for t, data in pcap:\n",
    "        try:\n",
    "            if dlt == 0:\n",
    "                x = struct.unpack('I', data[:4])[0]\n",
    "                if x == 2:\n",
    "                    ip = dpkt.ip.IP(data[4:])\n",
    "                elif x == 30:\n",
    "                    ip = dpkt.ip6.IP6(data[4:])\n",
    "                else:\n",
    "                    continue\n",
    "\n",
    "            elif dlt == 1:\n",
    "                eth = dpkt.ethernet.Ethernet(data)\n",
    "                ip = eth.data\n",
    "                if isinstance(ip, bytes):\n",
    "                    ip = dpkt.ip.IP(ip)\n",
    "\n",
    "            elif dlt == 101:\n",
    "                ip = dpkt.ip.IP(data)\n",
    "\n",
    "            else:\n",
    "                trace('** skipping dlt', dlt)\n",
    "                continue\n",
    "\n",
    "            yield (t, eth)\n",
    "\n",
    "        except GeneratorExit:\n",
    "            raise\n",
    "        except:\n",
    "            # if VERBOSE: trace(sys.exc_info())\n",
    "            pass"
   ]
  },
  {
   "cell_type": "code",
   "execution_count": 6,
   "metadata": {},
   "outputs": [
    {
     "data": {
      "text/plain": [
       "Counter({dpkt.ip.IP: 39, dpkt.tcp.TCP: 39})"
      ]
     },
     "execution_count": 6,
     "metadata": {},
     "output_type": "execute_result"
    }
   ],
   "source": [
    "stats = Counter()\n",
    "with open(fn, 'rb') as fp:\n",
    "    for t, eth in walk_pcap(fp):\n",
    "        stats[type(eth.data)] += 1\n",
    "        if isinstance(eth.data, (dpkt.ip.IP, dpkt.ip6.IP6)):\n",
    "            stats[type(eth.data.data)] += 1\n",
    "        else:\n",
    "            print(eth)\n",
    "stats"
   ]
  },
  {
   "cell_type": "code",
   "execution_count": 11,
   "metadata": {},
   "outputs": [
    {
     "data": {
      "text/plain": [
       "Counter({443: 24, 57567: 6, 57578: 4, 57581: 5})"
      ]
     },
     "execution_count": 11,
     "metadata": {},
     "output_type": "execute_result"
    }
   ],
   "source": [
    "stats = Counter()\n",
    "with open(fn, 'rb') as fp:\n",
    "    for t, eth in walk_pcap(fp):\n",
    "        if isinstance(eth.data, (dpkt.ip.IP, dpkt.ip6.IP6)):\n",
    "            ip = eth.data\n",
    "            if isinstance(ip.data, (dpkt.tcp.TCP, dpkt.udp.UDP)):\n",
    "                tcp = ip.data\n",
    "                stats[tcp.dport] += 1\n",
    "stats"
   ]
  },
  {
   "cell_type": "code",
   "execution_count": 19,
   "metadata": {},
   "outputs": [
    {
     "data": {
      "text/plain": [
       "dict_keys([57567, 57578, 57581])"
      ]
     },
     "execution_count": 19,
     "metadata": {},
     "output_type": "execute_result"
    }
   ],
   "source": [
    "ses = dict()\n",
    "with open(fn, 'rb') as fp:\n",
    "    for t, eth in walk_pcap(fp):\n",
    "        ip = eth.data\n",
    "        tcp = ip.data\n",
    "        p = tcp.dport if tcp.sport == 443 else tcp.sport\n",
    "        s = ses.get(p, list())\n",
    "        s.append(ip)\n",
    "        ses[p] = s\n",
    "ses.keys()"
   ]
  },
  {
   "cell_type": "code",
   "execution_count": 31,
   "metadata": {},
   "outputs": [
    {
     "data": {
      "text/plain": [
       "[16, 10, 13]"
      ]
     },
     "execution_count": 31,
     "metadata": {},
     "output_type": "execute_result"
    }
   ],
   "source": [
    "[*map(len, ses.values())]"
   ]
  },
  {
   "cell_type": "code",
   "execution_count": 29,
   "metadata": {},
   "outputs": [
    {
     "name": "stdout",
     "output_type": "stream",
     "text": [
      "True\n",
      "True\n",
      "True\n",
      "False\n",
      "True\n",
      "False\n",
      "True\n",
      "False\n",
      "False\n",
      "True\n",
      "False\n",
      "False\n",
      "True\n"
     ]
    }
   ],
   "source": [
    "for a, b in zip(ses[57567], ses[57581]):\n",
    "    x, y = a.data.data, b.data.data\n",
    "    print(x == y)"
   ]
  }
 ],
 "metadata": {
  "kernelspec": {
   "display_name": "Python 3",
   "language": "python",
   "name": "python3"
  },
  "language_info": {
   "codemirror_mode": {
    "name": "ipython",
    "version": 3
   },
   "file_extension": ".py",
   "mimetype": "text/x-python",
   "name": "python",
   "nbconvert_exporter": "python",
   "pygments_lexer": "ipython3",
   "version": "3.7.4"
  }
 },
 "nbformat": 4,
 "nbformat_minor": 2
}

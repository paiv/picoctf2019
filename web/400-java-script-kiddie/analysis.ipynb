{
 "cells": [
  {
   "cell_type": "code",
   "execution_count": 1,
   "metadata": {},
   "outputs": [],
   "source": [
    "fn = 'site/bytes'\n",
    "with open(fn) as f:\n",
    "    data = [*map(int, f.read().split())]"
   ]
  },
  {
   "cell_type": "code",
   "execution_count": 2,
   "metadata": {},
   "outputs": [
    {
     "data": {
      "text/plain": [
       "16"
      ]
     },
     "execution_count": 2,
     "metadata": {},
     "output_type": "execute_result"
    }
   ],
   "source": [
    "PNG = b'\\x89PNG\\r\\n\\x1a\\n\\x00\\x00\\x00\\rIHDR'\n",
    "len(PNG)"
   ]
  },
  {
   "cell_type": "code",
   "execution_count": 3,
   "metadata": {},
   "outputs": [
    {
     "name": "stdout",
     "output_type": "stream",
     "text": [
      "89 [(4, '4')]\n",
      "50 [(2, '2')]\n",
      "4e [(9, '9')]\n",
      "47 [(2, '2')]\n",
      "0d [(1, '1'), (7, '7')]\n",
      "0a [(4, '4')]\n",
      "1a [(8, '8')]\n",
      "0a [(0, '0')]\n",
      "00 [(2, '2')]\n",
      "00 [(4, '4'), (5, '5')]\n",
      "00 [(7, '7'), (8, '8')]\n",
      "0d [(7, '7')]\n",
      "49 [(3, '3')]\n",
      "48 [(6, '6')]\n",
      "44 [(2, '2')]\n",
      "52 [(8, '8')]\n"
     ]
    }
   ],
   "source": [
    "for i, x in enumerate(PNG):\n",
    "    print(f'{x:02x}', [(q, chr(q+48)) for q, k in ((q, data[q*16+i]) for q in range(len(data) // 16)) if k == x])"
   ]
  },
  {
   "cell_type": "code",
   "execution_count": 4,
   "metadata": {},
   "outputs": [
    {
     "data": {
      "text/plain": [
       "b\"\\x89PNG\\r\\n\\x1a\\n\\x00\\x00\\x00\\rIHDR\\x00\\x00\\x01r\\x00\\x00\\x01r\\x01\\x00\\x00\\x00\\x00\\xc0_l\\xa4\\x00\\x00\\x02wIDATx\\x9c\\xed\\x9bMj\\xe3@\\x10F\\xdf7\\x12x\\xd9\\x02\\x1f\\xc0G\\x91n0G\\ns3\\xe9(9@@\\xbd4\\xb4\\xa8YtK\\x96\\xc9\\x84q@Q\\xacP\\xb5\\x10\\xc2~\\x98\\x0f\\x9a\\xaa\\xae?\\xcb\\xf8\\x8c\\r\\xbf>\\x85\\x83\\xf3\\xce;\\xef\\xbc\\xf3\\xce;\\xff\\x11\\xafb5R3\\x89A\\x92:@]\\x9c\\xbf\\xebv\\xd4\\xe3\\xfcV<ffFkffce\\xd6\\x87D~\\xb3\\x91\\xf9mA\\xfag\\xd3\\xef\\xfcc|\\x9c=\\xb4}\\xad\\x81p\\x15\\xc3\\xc5rr-\\xa9\\xde[\\x8f\\xf3_\\xc3K\\x173\\x06\\xd5\\xf3I\\x7f\\xb3\\x1e\\xe77\\xe6\\xdb\\xf1k\\x7f\\xdf\\xf9]\\xf9\\xd9E\\x83\\x01\\x11\\x80\\xa9\\xa6\\x1d\\xcf\\t\\xc2U\\x06\\xb0n\\x81<\\x9b~\\xe7\\x1f\\xe2\\x07IR\\x03\\x10O\\xe5\\xd6\\xed\\xe2\\xc9\\xd41\\xe5\\xf4y_=\\xceo\\xc4\\xe7\\xfc\\xf9f@\\x95s\\xe5\\x7f}\\xeb\\xf9\\xf3\\xd1\\xf8U}T\\xae\\xde\\xb0TJ7(x}tl~h&\\xe5c\\x84I\\x0c\\x97\\xab\\xf4\\x92kb\\xeer\\xae'\\xd5\\xef\\xfcGV\\xa2r(\\x01y\\x15\\x9a\\xfbP|\\xda\\xfa9f\\xbb\\xff\\x1e\\x8d\\xcf\\xf9\\xb3\\x11\\x95\\xd3d\\rZ\\x12\\xe6X'#V\\t\\xc28\\x7f\\xf6l\\xfa\\x9d\\x7f\\x9c\\x1f$\\x99YB\\x1d\\xa0\\x8eI\\xb9\\x93E\\xf4\\xfe\\xd5A\\xf9%CN\\xe4\\xd6s\\x0f\\xe5qK\\xa7\\xf1\\xf8|l^j*\\xd3\\xcb\\xebi9\\xcb\\xe2\\xc4\\xb4\\xe3\\xa4u&\\xfd\\x9c\\xfa\\x9d\\xff\\xd0\\x8a\\xfb\\xae\\xc6D\\t\\xda\\xb1xm9Z\\xaf\\x8f\\x8e\\xca\\x97\\x8bu\\xf8}\\x95\\x11\\xcf\\xc9J~\\x95\\x800\\x02\\xe1\\xad6b\\x9dv\\xd2\\xe3\\xfc\\xb6\\xfc\\xea\\x9a\\xb5>\\xd8\\xca\\x89\\xcd\\xc6\\xca\\xb2'\\xe7\\x87\\xfb\\xef\\x01\\xf9\\xbb\\xf8<\\x92Cs~\\x83\\xca|\\xbe\\xffC\\xf8\\x90P\\x17\\xcc\\x18\\x1aPG\\xd9\\xe4\\x90.W\\x95\\xee\\xd6\\xaez\\x9c\\xdf\\x86_\\xf7\\xafJ\\xff9A\\xae\\x8aBZ\\xa8\\xca\\xe7\\x0b\\xc7\\xe4\\xdf\\xcf\\x8fB\\xca\\r\\xe7\\x12\\xae\\x97\\xc1\\x83\\xc7\\xe7\\xe3\\xf2\\xb7\\xfdI\\x885\\xf6\\xa7\\x01\\x86\\x06\\xe6\\xd6Uew\\xfcW\\xebq~+\\xbe\\xd4Gm\\x0f\\x10\\xcf\\x18L\\xb5\\x08ou\\xb9qC\\x82\\xe1\\xb2D\\xeag\\xd3\\xef\\xfcc\\xfc\\xbc?)\\xe9\\xb4\\xde\\xc7\\x19$\\xf9|\\xf0\\xe7\\xf0\\xd63\\xc9\\xec\\xb5&\\xf7\\xa4\\xcdR\\t\\xd7\\xdf\\xa3\\xc7\\xf9\\xcd\\xf9\\xca\\xd4\\x85\\xc4m\\x13\\x0b\\xa2\\xef_\\x1d\\x94\\x7f\\xb7?\\xd9\\x8eg\\x0c*S\\x1e\\r\\xe6q\\xc34s\\xcf\\xa6\\xdf\\xf9\\xff\\xd8\\xdc\\x9f\\x04J\\xd5k\\x96\\x176\\xb2\\x85DiWz}t@^\\xfe\\xffn\\xe7\\x9dw\\xdey\\xe7\\x9d\\xdf\\x9d\\xff\\x0b4\\xe8\\xca\\xc3b\\xef.>\\x00\\x00\\x00\\x00IEND\\xaeB`\\x82\""
      ]
     },
     "execution_count": 4,
     "metadata": {},
     "output_type": "execute_result"
    }
   ],
   "source": [
    "flag = b'4292148024773628'\n",
    "xs = bytes(data[((j + flag[i] - 48) * 16 + i) % len(data)] for j in range(len(data) // 16) for i in range(16))\n",
    "xs"
   ]
  },
  {
   "cell_type": "code",
   "execution_count": 5,
   "metadata": {},
   "outputs": [
    {
     "data": {
      "image/png": "[encoded data removed]",
      "text/plain": [
       "<PIL.PngImagePlugin.PngImageFile image mode=1 size=370x370 at 0x1112F8450>"
      ]
     },
     "execution_count": 5,
     "metadata": {},
     "output_type": "execute_result"
    }
   ],
   "source": [
    "import io\n",
    "from PIL import Image\n",
    "s = io.BytesIO(xs)\n",
    "im = Image.open(s)\n",
    "im"
   ]
  }
 ],
 "metadata": {
  "kernelspec": {
   "display_name": "Python 3",
   "language": "python",
   "name": "python3"
  },
  "language_info": {
   "codemirror_mode": {
    "name": "ipython",
    "version": 3
   },
   "file_extension": ".py",
   "mimetype": "text/x-python",
   "name": "python",
   "nbconvert_exporter": "python",
   "pygments_lexer": "ipython3",
   "version": "3.7.4"
  }
 },
 "nbformat": 4,
 "nbformat_minor": 2
}

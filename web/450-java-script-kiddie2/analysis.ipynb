{
 "cells": [
  {
   "cell_type": "code",
   "execution_count": 1,
   "metadata": {},
   "outputs": [],
   "source": [
    "fn = 'site/bytes'\n",
    "with open(fn) as f:\n",
    "    data = [*map(int, f.read().split())]"
   ]
  },
  {
   "cell_type": "code",
   "execution_count": 2,
   "metadata": {},
   "outputs": [
    {
     "data": {
      "text/plain": [
       "16"
      ]
     },
     "execution_count": 2,
     "metadata": {},
     "output_type": "execute_result"
    }
   ],
   "source": [
    "PNG = b'\\x89PNG\\r\\n\\x1a\\n\\x00\\x00\\x00\\rIHDR'\n",
    "len(PNG)"
   ]
  },
  {
   "cell_type": "code",
   "execution_count": 3,
   "metadata": {},
   "outputs": [
    {
     "name": "stdout",
     "output_type": "stream",
     "text": [
      "89 [(8, '8'), (14, '>')]\n",
      "50 [(8, '8')]\n",
      "4e [(2, '2')]\n",
      "47 [(9, '9')]\n",
      "0d [(2, '2')]\n",
      "0a [(4, '4')]\n",
      "1a [(2, '2'), (6, '6')]\n",
      "0a [(4, '4')]\n",
      "00 [(7, '7')]\n",
      "00 [(3, '3'), (4, '4')]\n",
      "00 [(3, '3'), (4, '4')]\n",
      "0d [(4, '4'), (6, '6')]\n",
      "49 [(0, '0')]\n",
      "48 [(4, '4')]\n",
      "44 [(8, '8')]\n",
      "52 [(6, '6')]\n"
     ]
    }
   ],
   "source": [
    "for i, x in enumerate(PNG):\n",
    "    print(f'{x:02x}', [(q, chr(q+48)) for q, k in ((q, data[q*16+i]) for q in range(len(data) // 16)) if k == x])"
   ]
  },
  {
   "cell_type": "code",
   "execution_count": 4,
   "metadata": {},
   "outputs": [],
   "source": [
    "import io\n",
    "from PIL import Image\n",
    "def decode_flag(flag):\n",
    "    xs = bytes(data[((j + ord(flag[i*2]) - 48) * 16) % len(data) + i] for j in range(len(data) // 16) for i in range(16))\n",
    "    s = io.BytesIO(xs)\n",
    "    return Image.open(s)"
   ]
  },
  {
   "cell_type": "code",
   "execution_count": 5,
   "metadata": {},
   "outputs": [
    {
     "name": "stdout",
     "output_type": "stream",
     "text": [
      "80802090204020407030306000408060\n",
      "<PIL.PngImagePlugin.PngImageFile image mode=1 size=370x370 at 0x10E0D3690>\n"
     ]
    }
   ],
   "source": [
    "import itertools\n",
    "def options(i):\n",
    "    for q, k in ((q, data[q*16+i]) for q in range(len(data) // 16)):\n",
    "        if k == PNG[i]:\n",
    "            yield q\n",
    "            \n",
    "for p in itertools.product(*(options(i) for i in range(len(PNG)))):\n",
    "    xs = bytes(data[((j + p[i]) * 16) % len(data) + i] for j in range(len(data) // 16) for i in range(16))\n",
    "    s = io.BytesIO(xs)\n",
    "    try:\n",
    "        flag = ''.join(map(str, (q for ab in zip(p, [0]*len(p)) for q in ab)))\n",
    "        im = decode_flag(flag)\n",
    "        print(flag)\n",
    "        print(im)\n",
    "    except OSError:\n",
    "        pass"
   ]
  },
  {
   "cell_type": "code",
   "execution_count": 6,
   "metadata": {},
   "outputs": [
    {
     "data": {
      "image/png": "[encoded data removed]",
      "text/plain": [
       "<PIL.PngImagePlugin.PngImageFile image mode=1 size=370x370 at 0x10E0182D0>"
      ]
     },
     "execution_count": 6,
     "metadata": {},
     "output_type": "execute_result"
    }
   ],
   "source": [
    "decode_flag('80802090204020407030306000408060')"
   ]
  }
 ],
 "metadata": {
  "kernelspec": {
   "display_name": "Python 3",
   "language": "python",
   "name": "python3"
  },
  "language_info": {
   "codemirror_mode": {
    "name": "ipython",
    "version": 3
   },
   "file_extension": ".py",
   "mimetype": "text/x-python",
   "name": "python",
   "nbconvert_exporter": "python",
   "pygments_lexer": "ipython3",
   "version": "3.7.4"
  }
 },
 "nbformat": 4,
 "nbformat_minor": 2
}
